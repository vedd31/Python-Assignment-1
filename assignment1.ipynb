{
 "cells": [
  {
   "cell_type": "code",
   "execution_count": 4,
   "metadata": {},
   "outputs": [
    {
     "name": "stdout",
     "output_type": "stream",
     "text": [
      "1. Addition\n",
      "2. Subtraction\n",
      "3. Multiplication\n",
      "4. Divion\n",
      "5. Exit\n",
      "Division: 7.444444444444445\n",
      "1. Addition\n",
      "2. Subtraction\n",
      "3. Multiplication\n",
      "4. Divion\n",
      "5. Exit\n",
      "Exit\n"
     ]
    }
   ],
   "source": [
    "#simple calculator for performing arithmatic operation\n",
    "\n",
    "while True:\n",
    "    print('1. Addition')\n",
    "    print('2. Subtraction')\n",
    "    print('3. Multiplication')\n",
    "    print('4. Divion')\n",
    "    print('5. Exit')\n",
    "\n",
    "    choice = input('Enter choice:')\n",
    "    if choice == '5':\n",
    "        print('Exit')\n",
    "        break\n",
    "    elif choice in ('1','2','3','4'):\n",
    "        num1 = int(input(\"enter the first number:\"))\n",
    "        num2 = int(input(\"enter the second number:\"))\n",
    "        if choice == '1':\n",
    "            print(\"Addition:\",(num1 + num2))\n",
    "        elif choice =='2':\n",
    "            print(\"Subtraction:\",(num1 - num2))\n",
    "        elif choice == '3':\n",
    "            print(\"Multiplication:\",(num1 * num2))\n",
    "        elif choice == '4':\n",
    "            print(\"Division:\",(num1/num2))\n",
    "\n",
    "    else:\n",
    "        print(\"Invalid input\")\n",
    "        "
   ]
  },
  {
   "cell_type": "code",
   "execution_count": 1,
   "metadata": {},
   "outputs": [
    {
     "name": "stdout",
     "output_type": "stream",
     "text": [
      "1. Calcius to Ferenheit\n",
      "2. Frenheit to Calcius\n",
      "3. Exit\n",
      "Farenheit: 73.4\n",
      "1. Calcius to Ferenheit\n",
      "2. Frenheit to Calcius\n",
      "3. Exit\n",
      "Invalid input\n",
      "1. Calcius to Ferenheit\n",
      "2. Frenheit to Calcius\n",
      "3. Exit\n",
      "Calcius: 19.444444444444443\n",
      "1. Calcius to Ferenheit\n",
      "2. Frenheit to Calcius\n",
      "3. Exit\n",
      "Calcius: -5.0\n",
      "1. Calcius to Ferenheit\n",
      "2. Frenheit to Calcius\n",
      "3. Exit\n",
      "Invalid input\n",
      "1. Calcius to Ferenheit\n",
      "2. Frenheit to Calcius\n",
      "3. Exit\n"
     ]
    }
   ],
   "source": [
    "#temperature conversion tool\n",
    "\n",
    "while True:\n",
    "    print(\"1. Calcius to Ferenheit\")\n",
    "    print(\"2. Frenheit to Calcius\")\n",
    "    print(\"3. Exit\")\n",
    "\n",
    "    choice = input(\"Enter choice:\")\n",
    "\n",
    "    if choice in('1','2'):\n",
    "        temperature = float(input('Enter temperature:'))\n",
    "\n",
    "        if choice == '1':\n",
    "            print('Farenheit:',((temperature*9/5) + 32))\n",
    "        elif choice == '2':\n",
    "            print('Calcius:',((temperature-32)* 5/9))\n",
    "        elif choice == '3':\n",
    "            print('Exit')\n",
    "            break\n",
    "    else:\n",
    "        print('Invalid input')"
   ]
  }
 ],
 "metadata": {
  "kernelspec": {
   "display_name": "Python 3",
   "language": "python",
   "name": "python3"
  },
  "language_info": {
   "codemirror_mode": {
    "name": "ipython",
    "version": 3
   },
   "file_extension": ".py",
   "mimetype": "text/x-python",
   "name": "python",
   "nbconvert_exporter": "python",
   "pygments_lexer": "ipython3",
   "version": "3.11.4"
  }
 },
 "nbformat": 4,
 "nbformat_minor": 2
}
